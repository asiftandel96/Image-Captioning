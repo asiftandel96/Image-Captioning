{
 "cells": [
  {
   "cell_type": "code",
   "execution_count": 33,
   "metadata": {},
   "outputs": [],
   "source": [
    "#importing libraries\n",
    "import warnings\n",
    "import numpy as np\n",
    "from numpy import array\n",
    "import pandas as pd\n",
    "import matplotlib.pyplot as plt\n",
    "%matplotlib inline\n",
    "import string\n",
    "import os\n",
    "from PIL import Image\n",
    "import glob\n",
    "from pickle import dump, load\n",
    "from time import time\n",
    "from tensorflow import keras\n",
    "from keras.preprocessing import sequence\n",
    "from keras.models import Sequential\n",
    "from keras.layers import LSTM, Embedding, TimeDistributed, Dense, RepeatVector,\\\n",
    "                         Activation, Flatten, Reshape, concatenate, Dropout, BatchNormalization\n",
    "from tensorflow.keras.optimizers import Adam, RMSprop\n",
    "from keras.layers.wrappers import Bidirectional\n",
    "from keras.layers.merge import add\n",
    "from keras.applications.inception_v3 import InceptionV3\n",
    "from keras.preprocessing import image\n",
    "from keras.models import Model\n",
    "from keras import Input, layers\n",
    "from keras import optimizers\n",
    "from keras.applications.inception_v3 import preprocess_input\n",
    "from keras.preprocessing.text import Tokenizer\n",
    "from keras.preprocessing.sequence import pad_sequences\n",
    "from tensorflow.keras.utils import to_categorical"
   ]
  },
  {
   "cell_type": "code",
   "execution_count": 34,
   "metadata": {},
   "outputs": [
    {
     "name": "stdout",
     "output_type": "stream",
     "text": [
      "1000268201_693b08cb0e.jpg#0\tA child in a pink dress is climbing up a set of stairs in an entry way .\n",
      "1000268201_693b08cb0e.jpg#1\tA girl going into a wooden building .\n",
      "1000268201_693b08cb0e.jpg#2\tA little girl climbing into a wooden playhouse .\n",
      "1000268201_693b08cb0e.jpg#3\tA little girl climbing the s\n"
     ]
    }
   ],
   "source": [
    "# load doc into memory\n",
    "def load_doc(filename):\n",
    "    # Opening file for read only\n",
    "    file1 = open(filename, 'r')\n",
    "    # read all text\n",
    "    text = file1.read()\n",
    "    # close the file\n",
    "    file1.close()\n",
    "    return text\n",
    "\n",
    "filename = r\"data/Flickr8k_text/Flickr8k.token.txt\"\n",
    "# load descriptions\n",
    "doc = load_doc(filename)\n",
    "print(doc[:300])"
   ]
  },
  {
   "cell_type": "code",
   "execution_count": 35,
   "metadata": {},
   "outputs": [
    {
     "name": "stdout",
     "output_type": "stream",
     "text": [
      "Loaded: 8092 \n"
     ]
    }
   ],
   "source": [
    "#Loading descriptions with above doc file\n",
    "def load_descriptions(doc):\n",
    "    mapping = dict()\n",
    "    # process lines\n",
    "    for line in doc.split('\\n'):\n",
    "        # split line by white space\n",
    "        tokens = line.split()\n",
    "        if len(line) < 2:\n",
    "            continue\n",
    "            # take the first token as the image id, the rest as the description\n",
    "        image_id, image_desc = tokens[0], tokens[1:]\n",
    "        # extract filename from image id\n",
    "        image_id = image_id.split('.')[0]\n",
    "        # convert description tokens back to string\n",
    "        image_desc = ' '.join(image_desc)\n",
    "        # create the list if needed\n",
    "        if image_id not in mapping:\n",
    "            mapping[image_id] = list()\n",
    "            # store description\n",
    "        mapping[image_id].append(image_desc)\n",
    "    return mapping\n",
    "\n",
    "# parse descriptions\n",
    "descriptions = load_descriptions(doc)\n",
    "print('Loaded: %d ' % len(descriptions))"
   ]
  },
  {
   "cell_type": "code",
   "execution_count": 36,
   "metadata": {},
   "outputs": [
    {
     "data": {
      "text/plain": [
       "['1000268201_693b08cb0e',\n",
       " '1001773457_577c3a7d70',\n",
       " '1002674143_1b742ab4b8',\n",
       " '1003163366_44323f5815',\n",
       " '1007129816_e794419615']"
      ]
     },
     "execution_count": 36,
     "metadata": {},
     "output_type": "execute_result"
    }
   ],
   "source": [
    "# list of descriptions keys\n",
    "list(descriptions.keys())[:5]"
   ]
  },
  {
   "cell_type": "code",
   "execution_count": 37,
   "metadata": {},
   "outputs": [
    {
     "data": {
      "text/plain": [
       "['A little girl covered in paint sits in front of a painted rainbow with her hands in a bowl .',\n",
       " 'A little girl is sitting in front of a large painted rainbow .',\n",
       " 'A small girl in the grass plays with fingerpaints in front of a white canvas with a rainbow on it .',\n",
       " 'There is a girl with pigtails sitting in front of a rainbow painting .',\n",
       " 'Young girl with pigtails painting outside in the grass .']"
      ]
     },
     "execution_count": 37,
     "metadata": {},
     "output_type": "execute_result"
    }
   ],
   "source": [
    "# descriptions for particular key\n",
    "descriptions['1002674143_1b742ab4b8']"
   ]
  },
  {
   "cell_type": "code",
   "execution_count": 38,
   "metadata": {},
   "outputs": [
    {
     "data": {
      "text/plain": [
       "['A man in an orange hat starring at something .',\n",
       " 'A man wears an orange hat and glasses .',\n",
       " 'A man with gauges and glasses is wearing a Blitz hat .',\n",
       " 'A man with glasses is wearing a beer can crocheted hat .',\n",
       " 'The man with pierced ears is wearing glasses and an orange hat .']"
      ]
     },
     "execution_count": 38,
     "metadata": {},
     "output_type": "execute_result"
    }
   ],
   "source": [
    "# We're doing the same as we done in above cell\n",
    "descriptions['1007129816_e794419615']"
   ]
  },
  {
   "cell_type": "code",
   "execution_count": 39,
   "metadata": {},
   "outputs": [],
   "source": [
    "# Cleaning above descriptions\n",
    "def clean_descriptions(descriptions):\n",
    "\t# prepare translation table for removing punctuation\n",
    "\ttable = str.maketrans('', '', string.punctuation)\n",
    "\tfor key, desc_list in descriptions.items():\n",
    "\t\tfor i in range(len(desc_list)):\n",
    "\t\t\tdesc = desc_list[i]\n",
    "\t\t\t# tokenize\n",
    "\t\t\tdesc = desc.split()\n",
    "\t\t\t# convert to lower case\n",
    "\t\t\tdesc = [word.lower() for word in desc]\n",
    "\t\t\t# remove punctuation from each token\n",
    "\t\t\tdesc = [w.translate(table) for w in desc]\n",
    "\t\t\t# remove hanging 's' and 'a'\n",
    "\t\t\tdesc = [word for word in desc if len(word)>1]\n",
    "\t\t\t# remove tokens with numbers in them\n",
    "\t\t\tdesc = [word for word in desc if word.isalpha()]\n",
    "\t\t\t# store as string\n",
    "\t\t\tdesc_list[i] =  ' '.join(desc)\n",
    "\n",
    "# clean descriptions\n",
    "clean_descriptions(descriptions)"
   ]
  },
  {
   "cell_type": "code",
   "execution_count": 40,
   "metadata": {},
   "outputs": [
    {
     "data": {
      "text/plain": [
       "['little girl covered in paint sits in front of painted rainbow with her hands in bowl',\n",
       " 'little girl is sitting in front of large painted rainbow',\n",
       " 'small girl in the grass plays with fingerpaints in front of white canvas with rainbow on it',\n",
       " 'there is girl with pigtails sitting in front of rainbow painting',\n",
       " 'young girl with pigtails painting outside in the grass']"
      ]
     },
     "execution_count": 40,
     "metadata": {},
     "output_type": "execute_result"
    }
   ],
   "source": [
    "# Checking here after cleaning how's it look like\n",
    "descriptions['1002674143_1b742ab4b8']"
   ]
  },
  {
   "cell_type": "code",
   "execution_count": 41,
   "metadata": {},
   "outputs": [
    {
     "data": {
      "text/plain": [
       "['man in an orange hat starring at something',\n",
       " 'man wears an orange hat and glasses',\n",
       " 'man with gauges and glasses is wearing blitz hat',\n",
       " 'man with glasses is wearing beer can crocheted hat',\n",
       " 'the man with pierced ears is wearing glasses and an orange hat']"
      ]
     },
     "execution_count": 41,
     "metadata": {},
     "output_type": "execute_result"
    }
   ],
   "source": [
    "# Doing the same what we done in the above cell\n",
    "descriptions['1007129816_e794419615']"
   ]
  },
  {
   "cell_type": "code",
   "execution_count": 42,
   "metadata": {},
   "outputs": [
    {
     "name": "stdout",
     "output_type": "stream",
     "text": [
      "Original Vocabulary Size: 8763\n"
     ]
    }
   ],
   "source": [
    "# converting those loaded description into vocabulary of words\n",
    "def to_vocabulary(descriptions):\n",
    "    # build a list of all description strings\n",
    "    all_desc = set()\n",
    "    for key in descriptions.keys():\n",
    "        [all_desc.update(d.split()) for d in descriptions[key]]\n",
    "    return all_desc\n",
    "\n",
    "# summarize vocabulary\n",
    "vocabulary = to_vocabulary(descriptions)\n",
    "print('Original Vocabulary Size: %d' % len(vocabulary))"
   ]
  },
  {
   "cell_type": "code",
   "execution_count": 43,
   "metadata": {},
   "outputs": [],
   "source": [
    "# We are saving descriptions one per line\n",
    "def save_descriptions(descriptions, filename):\n",
    "    lines = list()\n",
    "    for key, desc_list in descriptions.items():\n",
    "        for desc in desc_list:\n",
    "            lines.append(key + ' ' + desc)\n",
    "    data = '\\n'.join(lines)\n",
    "    file1 = open(filename, 'w')\n",
    "    file1.write(data)\n",
    "    file1.close()\n",
    "\n",
    "save_descriptions(descriptions, 'descriptions.txt')"
   ]
  },
  {
   "cell_type": "code",
   "execution_count": 44,
   "metadata": {},
   "outputs": [
    {
     "name": "stdout",
     "output_type": "stream",
     "text": [
      "Dataset: 6000\n"
     ]
    }
   ],
   "source": [
    "# loading  the pre-defined list of photo identifiers\n",
    "def load_set(filename):\n",
    "    doc = load_doc(filename)\n",
    "    dataset = list()\n",
    "    # process line by line\n",
    "    for line in doc.split('\\n'):\n",
    "        # skip empty lines\n",
    "        if len(line) < 1:\n",
    "            continue\n",
    "        # get the image identifier\n",
    "        identifier = line.split('.')[0]\n",
    "        dataset.append(identifier)\n",
    "    return set(dataset)\n",
    "\n",
    "# load training dataset (6K)\n",
    "filename = r'data/Flickr8k_text/Flickr_8k.trainImages.txt'\n",
    "train = load_set(filename)\n",
    "print('Dataset: %d' % len(train))"
   ]
  },
  {
   "cell_type": "code",
   "execution_count": 45,
   "metadata": {},
   "outputs": [],
   "source": [
    "# Below path contains all the images\n",
    "images = r'data/Flicker8k_Dataset/'\n",
    "# Create a list of all image names in the directory\n",
    "img = glob.glob(images + '*.jpg')"
   ]
  },
  {
   "cell_type": "code",
   "execution_count": 46,
   "metadata": {},
   "outputs": [],
   "source": [
    "# Below path contains all name of images which is to be used as train data\n",
    "train_images_file = r'data/Flickr8k_text/Flickr_8k.trainImages.txt'\n",
    "# Reading the train image names in a set\n",
    "train_images = set(open(train_images_file, 'r').read().strip().split('\\n'))\n",
    "\n",
    "# Create a list of all the training images with their full path names\n",
    "train_img = []\n",
    "\n",
    "for i in img: # img is list of full path names of all images\n",
    "    if i[len(images):] in train_images: # Check if the image belongs to training set\n",
    "        train_img.append(i) # Add it to the list of train image"
   ]
  },
  {
   "cell_type": "code",
   "execution_count": 47,
   "metadata": {},
   "outputs": [],
   "source": [
    "# Below path contains all name of images which is used to be as test data\n",
    "test_images_file = r'data/Flickr8k_text/Flickr_8k.testImages.txt'\n",
    "# Read the test image names in a set\n",
    "test_images = set(open(test_images_file, 'r').read().strip().split('\\n'))\n",
    "\n",
    "# Create a list of all the test images with their full path names\n",
    "test_img = []\n",
    "\n",
    "for i in img: # img is list of full path names of all images\n",
    "    if i[len(images):] in test_images: # Check if the image belongs to test set\n",
    "        test_img.append(i) # Add it to the list of test images"
   ]
  },
  {
   "cell_type": "code",
   "execution_count": 49,
   "metadata": {},
   "outputs": [
    {
     "name": "stdout",
     "output_type": "stream",
     "text": [
      "Descriptions: train=6000\n"
     ]
    }
   ],
   "source": [
    "# load clean descriptions into memory\n",
    "def load_clean_descriptions(filename, dataset):\n",
    "\t# load document\n",
    "\tdoc = load_doc(filename)\n",
    "\tdescriptions = dict()\n",
    "\tfor line in doc.split('\\n'):\n",
    "\t\t# split line by white space\n",
    "\t\ttokens = line.split()\n",
    "\t\t# split id from description\n",
    "\t\timage_id, image_desc = tokens[0], tokens[1:]\n",
    "\t\t# skip images not in the set\n",
    "\t\tif image_id in dataset:\n",
    "\t\t\t# create list\n",
    "\t\t\tif image_id not in descriptions:\n",
    "\t\t\t\tdescriptions[image_id] = list()\n",
    "\t\t\t# wrap description in tokens\n",
    "\t\t\tdesc = 'startseq ' + ' '.join(image_desc) + ' endseq'\n",
    "\t\t\t# store\n",
    "\t\t\tdescriptions[image_id].append(desc)\n",
    "\treturn descriptions\n",
    "\n",
    "# descriptions\n",
    "train_descriptions = load_clean_descriptions('descriptions.txt', train)\n",
    "print('Descriptions: train=%d' % len(train_descriptions))"
   ]
  },
  {
   "cell_type": "code",
   "execution_count": 50,
   "metadata": {},
   "outputs": [],
   "source": [
    "# We're converting our image size 299x299\n",
    "def preprocess(image_path):\n",
    "    # Convert all the images to size 299x299 as expected by the inception v3 model\n",
    "    img = image.load_img(image_path, target_size=(299, 299))\n",
    "    # Convert PIL image to numpy array of 3-dimensions\n",
    "    x = image.img_to_array(img)\n",
    "    # Add one more dimension\n",
    "    x = np.expand_dims(x, axis=0)\n",
    "    # preprocess the images using preprocess_input() from inception module\n",
    "    x = preprocess_input(x)\n",
    "    return x"
   ]
  },
  {
   "cell_type": "code",
   "execution_count": 21,
   "metadata": {},
   "outputs": [
    {
     "name": "stdout",
     "output_type": "stream",
     "text": [
      "Downloading data from https://storage.googleapis.com/tensorflow/keras-applications/inception_v3/inception_v3_weights_tf_dim_ordering_tf_kernels.h5\n",
      "96116736/96112376 [==============================] - 34s 0us/step\n",
      "96124928/96112376 [==============================] - 34s 0us/step\n"
     ]
    }
   ],
   "source": [
    "# Loaded the InceptionV3 model here\n",
    "model = InceptionV3(weights='imagenet')"
   ]
  },
  {
   "cell_type": "code",
   "execution_count": 22,
   "metadata": {},
   "outputs": [],
   "source": [
    "# Creating a new model, by removing the last layer(output layer) from the inception v3\n",
    "model_new = Model(model.input, model.layers[-2].output)"
   ]
  },
  {
   "cell_type": "code",
   "execution_count": 23,
   "metadata": {},
   "outputs": [],
   "source": [
    "# Function to encode a given image into a vector of size (2048, )\n",
    "def encode(image):\n",
    "    image = preprocess(image) # preprocess the image\n",
    "    fea_vec = model_new.predict(image) # Get the encoding vector for the image\n",
    "    fea_vec = np.reshape(fea_vec, fea_vec.shape[1]) # reshape from (1, 2048) to (2048, )\n",
    "    return fea_vec"
   ]
  },
  {
   "cell_type": "code",
   "execution_count": 24,
   "metadata": {},
   "outputs": [
    {
     "ename": "KeyboardInterrupt",
     "evalue": "",
     "output_type": "error",
     "traceback": [
      "\u001b[1;31m---------------------------------------------------------------------------\u001b[0m",
      "\u001b[1;31mKeyboardInterrupt\u001b[0m                         Traceback (most recent call last)",
      "\u001b[1;32m<ipython-input-24-b6d42955bffb>\u001b[0m in \u001b[0;36m<module>\u001b[1;34m\u001b[0m\n\u001b[0;32m      4\u001b[0m \u001b[0mencoding_train\u001b[0m \u001b[1;33m=\u001b[0m \u001b[1;33m{\u001b[0m\u001b[1;33m}\u001b[0m\u001b[1;33m\u001b[0m\u001b[1;33m\u001b[0m\u001b[0m\n\u001b[0;32m      5\u001b[0m \u001b[1;32mfor\u001b[0m \u001b[0mimg\u001b[0m \u001b[1;32min\u001b[0m \u001b[0mtrain_img\u001b[0m\u001b[1;33m:\u001b[0m\u001b[1;33m\u001b[0m\u001b[1;33m\u001b[0m\u001b[0m\n\u001b[1;32m----> 6\u001b[1;33m     \u001b[0mencoding_train\u001b[0m\u001b[1;33m[\u001b[0m\u001b[0mimg\u001b[0m\u001b[1;33m[\u001b[0m\u001b[0mlen\u001b[0m\u001b[1;33m(\u001b[0m\u001b[0mimages\u001b[0m\u001b[1;33m)\u001b[0m\u001b[1;33m:\u001b[0m\u001b[1;33m]\u001b[0m\u001b[1;33m]\u001b[0m \u001b[1;33m=\u001b[0m \u001b[0mencode\u001b[0m\u001b[1;33m(\u001b[0m\u001b[0mimg\u001b[0m\u001b[1;33m)\u001b[0m\u001b[1;33m\u001b[0m\u001b[1;33m\u001b[0m\u001b[0m\n\u001b[0m\u001b[0;32m      7\u001b[0m \u001b[0mprint\u001b[0m\u001b[1;33m(\u001b[0m\u001b[1;34m\"Time taken in seconds =\"\u001b[0m\u001b[1;33m,\u001b[0m \u001b[0mtime\u001b[0m\u001b[1;33m(\u001b[0m\u001b[1;33m)\u001b[0m\u001b[1;33m-\u001b[0m\u001b[0mstart\u001b[0m\u001b[1;33m)\u001b[0m\u001b[1;33m\u001b[0m\u001b[1;33m\u001b[0m\u001b[0m\n",
      "\u001b[1;32m<ipython-input-23-f8c04aa21f0e>\u001b[0m in \u001b[0;36mencode\u001b[1;34m(image)\u001b[0m\n\u001b[0;32m      1\u001b[0m \u001b[1;31m# Function to encode a given image into a vector of size (2048, )\u001b[0m\u001b[1;33m\u001b[0m\u001b[1;33m\u001b[0m\u001b[1;33m\u001b[0m\u001b[0m\n\u001b[0;32m      2\u001b[0m \u001b[1;32mdef\u001b[0m \u001b[0mencode\u001b[0m\u001b[1;33m(\u001b[0m\u001b[0mimage\u001b[0m\u001b[1;33m)\u001b[0m\u001b[1;33m:\u001b[0m\u001b[1;33m\u001b[0m\u001b[1;33m\u001b[0m\u001b[0m\n\u001b[1;32m----> 3\u001b[1;33m     \u001b[0mimage\u001b[0m \u001b[1;33m=\u001b[0m \u001b[0mpreprocess\u001b[0m\u001b[1;33m(\u001b[0m\u001b[0mimage\u001b[0m\u001b[1;33m)\u001b[0m \u001b[1;31m# preprocess the image\u001b[0m\u001b[1;33m\u001b[0m\u001b[1;33m\u001b[0m\u001b[0m\n\u001b[0m\u001b[0;32m      4\u001b[0m     \u001b[0mfea_vec\u001b[0m \u001b[1;33m=\u001b[0m \u001b[0mmodel_new\u001b[0m\u001b[1;33m.\u001b[0m\u001b[0mpredict\u001b[0m\u001b[1;33m(\u001b[0m\u001b[0mimage\u001b[0m\u001b[1;33m)\u001b[0m \u001b[1;31m# Get the encoding vector for the image\u001b[0m\u001b[1;33m\u001b[0m\u001b[1;33m\u001b[0m\u001b[0m\n\u001b[0;32m      5\u001b[0m     \u001b[0mfea_vec\u001b[0m \u001b[1;33m=\u001b[0m \u001b[0mnp\u001b[0m\u001b[1;33m.\u001b[0m\u001b[0mreshape\u001b[0m\u001b[1;33m(\u001b[0m\u001b[0mfea_vec\u001b[0m\u001b[1;33m,\u001b[0m \u001b[0mfea_vec\u001b[0m\u001b[1;33m.\u001b[0m\u001b[0mshape\u001b[0m\u001b[1;33m[\u001b[0m\u001b[1;36m1\u001b[0m\u001b[1;33m]\u001b[0m\u001b[1;33m)\u001b[0m \u001b[1;31m# reshape from (1, 2048) to (2048, )\u001b[0m\u001b[1;33m\u001b[0m\u001b[1;33m\u001b[0m\u001b[0m\n",
      "\u001b[1;32m<ipython-input-20-ec6823344c12>\u001b[0m in \u001b[0;36mpreprocess\u001b[1;34m(image_path)\u001b[0m\n\u001b[0;32m      2\u001b[0m \u001b[1;32mdef\u001b[0m \u001b[0mpreprocess\u001b[0m\u001b[1;33m(\u001b[0m\u001b[0mimage_path\u001b[0m\u001b[1;33m)\u001b[0m\u001b[1;33m:\u001b[0m\u001b[1;33m\u001b[0m\u001b[1;33m\u001b[0m\u001b[0m\n\u001b[0;32m      3\u001b[0m     \u001b[1;31m# Convert all the images to size 299x299 as expected by the inception v3 model\u001b[0m\u001b[1;33m\u001b[0m\u001b[1;33m\u001b[0m\u001b[1;33m\u001b[0m\u001b[0m\n\u001b[1;32m----> 4\u001b[1;33m     \u001b[0mimg\u001b[0m \u001b[1;33m=\u001b[0m \u001b[0mimage\u001b[0m\u001b[1;33m.\u001b[0m\u001b[0mload_img\u001b[0m\u001b[1;33m(\u001b[0m\u001b[0mimage_path\u001b[0m\u001b[1;33m,\u001b[0m \u001b[0mtarget_size\u001b[0m\u001b[1;33m=\u001b[0m\u001b[1;33m(\u001b[0m\u001b[1;36m299\u001b[0m\u001b[1;33m,\u001b[0m \u001b[1;36m299\u001b[0m\u001b[1;33m)\u001b[0m\u001b[1;33m)\u001b[0m\u001b[1;33m\u001b[0m\u001b[1;33m\u001b[0m\u001b[0m\n\u001b[0m\u001b[0;32m      5\u001b[0m     \u001b[1;31m# Convert PIL image to numpy array of 3-dimensions\u001b[0m\u001b[1;33m\u001b[0m\u001b[1;33m\u001b[0m\u001b[1;33m\u001b[0m\u001b[0m\n\u001b[0;32m      6\u001b[0m     \u001b[0mx\u001b[0m \u001b[1;33m=\u001b[0m \u001b[0mimage\u001b[0m\u001b[1;33m.\u001b[0m\u001b[0mimg_to_array\u001b[0m\u001b[1;33m(\u001b[0m\u001b[0mimg\u001b[0m\u001b[1;33m)\u001b[0m\u001b[1;33m\u001b[0m\u001b[1;33m\u001b[0m\u001b[0m\n",
      "\u001b[1;32mc:\\users\\asif\\appdata\\local\\programs\\python\\python38\\lib\\site-packages\\keras\\preprocessing\\image.py\u001b[0m in \u001b[0;36mload_img\u001b[1;34m(path, grayscale, color_mode, target_size, interpolation)\u001b[0m\n\u001b[0;32m    290\u001b[0m       \u001b[0mValueError\u001b[0m\u001b[1;33m:\u001b[0m \u001b[1;32mif\u001b[0m \u001b[0minterpolation\u001b[0m \u001b[0mmethod\u001b[0m \u001b[1;32mis\u001b[0m \u001b[1;32mnot\u001b[0m \u001b[0msupported\u001b[0m\u001b[1;33m.\u001b[0m\u001b[1;33m\u001b[0m\u001b[1;33m\u001b[0m\u001b[0m\n\u001b[0;32m    291\u001b[0m   \"\"\"\n\u001b[1;32m--> 292\u001b[1;33m   return image.load_img(path, grayscale=grayscale, color_mode=color_mode,\n\u001b[0m\u001b[0;32m    293\u001b[0m                         target_size=target_size, interpolation=interpolation)\n\u001b[0;32m    294\u001b[0m \u001b[1;33m\u001b[0m\u001b[0m\n",
      "\u001b[1;32mc:\\users\\asif\\appdata\\local\\programs\\python\\python38\\lib\\site-packages\\keras_preprocessing\\image\\utils.py\u001b[0m in \u001b[0;36mload_img\u001b[1;34m(path, grayscale, color_mode, target_size, interpolation)\u001b[0m\n\u001b[0;32m    111\u001b[0m         raise ImportError('Could not import PIL.Image. '\n\u001b[0;32m    112\u001b[0m                           'The use of `load_img` requires PIL.')\n\u001b[1;32m--> 113\u001b[1;33m     \u001b[1;32mwith\u001b[0m \u001b[0mopen\u001b[0m\u001b[1;33m(\u001b[0m\u001b[0mpath\u001b[0m\u001b[1;33m,\u001b[0m \u001b[1;34m'rb'\u001b[0m\u001b[1;33m)\u001b[0m \u001b[1;32mas\u001b[0m \u001b[0mf\u001b[0m\u001b[1;33m:\u001b[0m\u001b[1;33m\u001b[0m\u001b[1;33m\u001b[0m\u001b[0m\n\u001b[0m\u001b[0;32m    114\u001b[0m         \u001b[0mimg\u001b[0m \u001b[1;33m=\u001b[0m \u001b[0mpil_image\u001b[0m\u001b[1;33m.\u001b[0m\u001b[0mopen\u001b[0m\u001b[1;33m(\u001b[0m\u001b[0mio\u001b[0m\u001b[1;33m.\u001b[0m\u001b[0mBytesIO\u001b[0m\u001b[1;33m(\u001b[0m\u001b[0mf\u001b[0m\u001b[1;33m.\u001b[0m\u001b[0mread\u001b[0m\u001b[1;33m(\u001b[0m\u001b[1;33m)\u001b[0m\u001b[1;33m)\u001b[0m\u001b[1;33m)\u001b[0m\u001b[1;33m\u001b[0m\u001b[1;33m\u001b[0m\u001b[0m\n\u001b[0;32m    115\u001b[0m         \u001b[1;32mif\u001b[0m \u001b[0mcolor_mode\u001b[0m \u001b[1;33m==\u001b[0m \u001b[1;34m'grayscale'\u001b[0m\u001b[1;33m:\u001b[0m\u001b[1;33m\u001b[0m\u001b[1;33m\u001b[0m\u001b[0m\n",
      "\u001b[1;31mKeyboardInterrupt\u001b[0m: "
     ]
    }
   ],
   "source": [
    "# We're Calling the above funtion to encode all the train images\n",
    "# This will take a while on CPU - Execute this only once\n",
    "start = time()\n",
    "encoding_train = {}\n",
    "for img in train_img:\n",
    "    encoding_train[img[len(images):]] = encode(img)\n",
    "print(\"Time taken in seconds =\", time()-start)"
   ]
  },
  {
   "cell_type": "code",
   "execution_count": 1,
   "metadata": {},
   "outputs": [],
   "source": [
    "#import pickle\n",
    "# Save this encoded_train pkl files for training features to the disk\n",
    "#with open(\"/home/vikash/Downloads/Image_Captioning-002/Image_Captioning/data/Pickle/encoded_train_images.pkl\", \"wb\") as encoded_pickle:\n",
    "#    pickle.dump(encoding_train, encoded_pickle)"
   ]
  },
  {
   "cell_type": "code",
   "execution_count": 2,
   "metadata": {},
   "outputs": [],
   "source": [
    "# We're Calling the above funtion to encode all the test images - Execute this only once\n",
    "#start = time()\n",
    "#encoding_test = {}\n",
    "#for img in test_img:\n",
    "#    encoding_test[img[len(images):]] = encode(img)\n",
    "#print(\"Time taken in seconds =\", time()-start)"
   ]
  },
  {
   "cell_type": "code",
   "execution_count": 3,
   "metadata": {},
   "outputs": [],
   "source": [
    "# Save the encoded_test pkl file for testing purposes to disk\n",
    "#with open(\"/home/paperspace/Image_Captioning/data/Pickle/encoded_test_images.pkl\", \"wb\") as encoded_pickle:\n",
    "#    pickle.dump(encoding_test, encoded_pickle)"
   ]
  },
  {
   "cell_type": "code",
   "execution_count": 51,
   "metadata": {},
   "outputs": [
    {
     "name": "stdout",
     "output_type": "stream",
     "text": [
      "Photos: train=6000\n"
     ]
    }
   ],
   "source": [
    "#Let's check how many images we're taking for training\n",
    "train_features = load(open(\"data/Pickle/encoded_train_images.pkl\", \"rb\"))\n",
    "print('Photos: train=%d' % len(train_features))"
   ]
  },
  {
   "cell_type": "code",
   "execution_count": 52,
   "metadata": {},
   "outputs": [
    {
     "data": {
      "text/plain": [
       "30000"
      ]
     },
     "execution_count": 52,
     "metadata": {},
     "output_type": "execute_result"
    }
   ],
   "source": [
    "# We're creating here a list of all the training captions\n",
    "all_train_captions = []\n",
    "for key, val in train_descriptions.items():\n",
    "    for cap in val:\n",
    "        all_train_captions.append(cap)\n",
    "len(all_train_captions)"
   ]
  },
  {
   "cell_type": "code",
   "execution_count": 53,
   "metadata": {},
   "outputs": [
    {
     "name": "stdout",
     "output_type": "stream",
     "text": [
      "preprocessed words 7578 -> 1651\n"
     ]
    }
   ],
   "source": [
    "# Considering only those words which occur at least 10 times in the corpus\n",
    "word_count_threshold = 10\n",
    "word_counts = {}\n",
    "nsents = 0\n",
    "for sent in all_train_captions:\n",
    "    nsents += 1\n",
    "    for w in sent.split(' '):\n",
    "        word_counts[w] = word_counts.get(w, 0) + 1\n",
    "\n",
    "vocab = [w for w in word_counts if word_counts[w] >= word_count_threshold]\n",
    "print('preprocessed words %d -> %d' % (len(word_counts), len(vocab)))"
   ]
  },
  {
   "cell_type": "code",
   "execution_count": 55,
   "metadata": {},
   "outputs": [],
   "source": [
    "# Here we created two dictionaries\n",
    "ixtoword = {} #index to word\n",
    "wordtoix = {} #word to index\n",
    "\n",
    "ix = 1\n",
    "for w in vocab:\n",
    "    wordtoix[w] = ix\n",
    "    ixtoword[ix] = w\n",
    "    ix += 1"
   ]
  },
  {
   "cell_type": "code",
   "execution_count": 56,
   "metadata": {},
   "outputs": [
    {
     "data": {
      "text/plain": [
       "1652"
      ]
     },
     "execution_count": 56,
     "metadata": {},
     "output_type": "execute_result"
    }
   ],
   "source": [
    "vocab_size = len(ixtoword) + 1 #one for appended 0's\n",
    "vocab_size"
   ]
  },
  {
   "cell_type": "code",
   "execution_count": 57,
   "metadata": {},
   "outputs": [
    {
     "name": "stdout",
     "output_type": "stream",
     "text": [
      "Description Length: 34\n"
     ]
    }
   ],
   "source": [
    "# converting a dictionary of clean descriptions to a list of descriptions\n",
    "def to_lines(descriptions):\n",
    "\tall_desc = list()\n",
    "\tfor key in descriptions.keys():\n",
    "\t\t[all_desc.append(d) for d in descriptions[key]]\n",
    "\treturn all_desc\n",
    "\n",
    "# calculating the length of the description with the most words\n",
    "def max_length(descriptions):\n",
    "\tlines = to_lines(descriptions)\n",
    "\treturn max(len(d.split()) for d in lines)\n",
    "\n",
    "# determine the maximum sequence length\n",
    "max_length = max_length(train_descriptions)\n",
    "print('Description Length: %d' % max_length)"
   ]
  },
  {
   "cell_type": "code",
   "execution_count": 58,
   "metadata": {},
   "outputs": [],
   "source": [
    "# data generator, intended to be used in a call to model.fit_generator()\n",
    "def data_generator(descriptions, photos, wordtoix, max_length, num_photos_per_batch):\n",
    "    X1, X2, y = list(), list(), list()\n",
    "    n=0\n",
    "    # loop for ever over images\n",
    "    while 1:\n",
    "        for key, desc_list in descriptions.items():\n",
    "            n+=1\n",
    "            # retrieve the photo feature\n",
    "            photo = photos[key+'.jpg']\n",
    "            for desc in desc_list:\n",
    "                # encode the sequence\n",
    "                seq = [wordtoix[word] for word in desc.split(' ') if word in wordtoix]\n",
    "                # split one sequence into multiple X, y pairs\n",
    "                for i in range(1, len(seq)):\n",
    "                    # split into input and output pair\n",
    "                    in_seq, out_seq = seq[:i], seq[i]\n",
    "                    # pad input sequence\n",
    "                    in_seq = pad_sequences([in_seq], maxlen=max_length)[0]\n",
    "                    # encode output sequence\n",
    "                    out_seq = to_categorical([out_seq], num_classes=vocab_size)[0]\n",
    "                    # store\n",
    "                    X1.append(photo)\n",
    "                    X2.append(in_seq)\n",
    "                    y.append(out_seq)\n",
    "            # yield the batch data\n",
    "            if n==num_photos_per_batch:\n",
    "                yield [[array(X1), array(X2)], array(y)]\n",
    "                X1, X2, y = list(), list(), list()\n",
    "                n=0"
   ]
  },
  {
   "cell_type": "code",
   "execution_count": 59,
   "metadata": {},
   "outputs": [
    {
     "name": "stdout",
     "output_type": "stream",
     "text": [
      "Found 400000 word vectors.\n"
     ]
    }
   ],
   "source": [
    "# Load Glove vectors(You need to download 'glove.6B.200d.txt')\n",
    "glove_dir = 'glove'\n",
    "embeddings_index = {} # empty dictionary\n",
    "f = open(os.path.join(glove_dir, 'glove.6B.200d.txt'), encoding=\"utf-8\")\n",
    "\n",
    "for line in f:\n",
    "    values = line.split()\n",
    "    word = values[0]\n",
    "    coefs = np.asarray(values[1:], dtype='float32')\n",
    "    embeddings_index[word] = coefs\n",
    "f.close()\n",
    "print('Found %s word vectors.' % len(embeddings_index))"
   ]
  },
  {
   "cell_type": "code",
   "execution_count": 60,
   "metadata": {},
   "outputs": [],
   "source": [
    "embedding_dim = 200\n",
    "\n",
    "# Get 200-dimension dense vector for each of the 10000 words in out vocabulary\n",
    "embedding_matrix = np.zeros((vocab_size, embedding_dim))\n",
    "\n",
    "for word, i in wordtoix.items():\n",
    "    #if i < max_words:\n",
    "    embedding_vector = embeddings_index.get(word)\n",
    "    if embedding_vector is not None:\n",
    "        # Words not found in the embedding index will be all zeros\n",
    "        embedding_matrix[i] = embedding_vector"
   ]
  },
  {
   "cell_type": "code",
   "execution_count": 61,
   "metadata": {},
   "outputs": [
    {
     "data": {
      "text/plain": [
       "(1652, 200)"
      ]
     },
     "execution_count": 61,
     "metadata": {},
     "output_type": "execute_result"
    }
   ],
   "source": [
    "embedding_matrix.shape"
   ]
  },
  {
   "cell_type": "code",
   "execution_count": null,
   "metadata": {},
   "outputs": [],
   "source": []
  },
  {
   "cell_type": "code",
   "execution_count": 62,
   "metadata": {},
   "outputs": [],
   "source": [
    "inputs1 = Input(shape=(2048,))\n",
    "fe1 = Dropout(0.5)(inputs1)\n",
    "fe2 = Dense(256, activation='relu')(fe1)\n",
    "inputs2 = Input(shape=(max_length,))\n",
    "se1 = Embedding(vocab_size, embedding_dim, mask_zero=True)(inputs2)\n",
    "se2 = Dropout(0.5)(se1)\n",
    "se3 = LSTM(256)(se2)\n",
    "decoder1 = add([fe2, se3])\n",
    "decoder2 = Dense(256, activation='relu')(decoder1)\n",
    "outputs = Dense(vocab_size, activation='softmax')(decoder2)\n",
    "model = Model(inputs=[inputs1, inputs2], outputs=outputs)"
   ]
  },
  {
   "cell_type": "code",
   "execution_count": 63,
   "metadata": {},
   "outputs": [
    {
     "name": "stdout",
     "output_type": "stream",
     "text": [
      "Model: \"model_1\"\n",
      "__________________________________________________________________________________________________\n",
      "Layer (type)                    Output Shape         Param #     Connected to                     \n",
      "==================================================================================================\n",
      "input_3 (InputLayer)            [(None, 34)]         0                                            \n",
      "__________________________________________________________________________________________________\n",
      "input_2 (InputLayer)            [(None, 2048)]       0                                            \n",
      "__________________________________________________________________________________________________\n",
      "embedding (Embedding)           (None, 34, 200)      330400      input_3[0][0]                    \n",
      "__________________________________________________________________________________________________\n",
      "dropout (Dropout)               (None, 2048)         0           input_2[0][0]                    \n",
      "__________________________________________________________________________________________________\n",
      "dropout_1 (Dropout)             (None, 34, 200)      0           embedding[0][0]                  \n",
      "__________________________________________________________________________________________________\n",
      "dense (Dense)                   (None, 256)          524544      dropout[0][0]                    \n",
      "__________________________________________________________________________________________________\n",
      "lstm (LSTM)                     (None, 256)          467968      dropout_1[0][0]                  \n",
      "__________________________________________________________________________________________________\n",
      "add (Add)                       (None, 256)          0           dense[0][0]                      \n",
      "                                                                 lstm[0][0]                       \n",
      "__________________________________________________________________________________________________\n",
      "dense_1 (Dense)                 (None, 256)          65792       add[0][0]                        \n",
      "__________________________________________________________________________________________________\n",
      "dense_2 (Dense)                 (None, 1652)         424564      dense_1[0][0]                    \n",
      "==================================================================================================\n",
      "Total params: 1,813,268\n",
      "Trainable params: 1,813,268\n",
      "Non-trainable params: 0\n",
      "__________________________________________________________________________________________________\n"
     ]
    }
   ],
   "source": [
    "#summary of the model\n",
    "model.summary()"
   ]
  },
  {
   "cell_type": "code",
   "execution_count": 64,
   "metadata": {},
   "outputs": [
    {
     "data": {
      "text/plain": [
       "<keras.layers.embeddings.Embedding at 0x28f85643790>"
      ]
     },
     "execution_count": 64,
     "metadata": {},
     "output_type": "execute_result"
    }
   ],
   "source": [
    "model.layers[2]"
   ]
  },
  {
   "cell_type": "code",
   "execution_count": 65,
   "metadata": {},
   "outputs": [],
   "source": [
    "#We set weights for layers here\n",
    "model.layers[2].set_weights([embedding_matrix])\n",
    "model.layers[2].trainable = False"
   ]
  },
  {
   "cell_type": "code",
   "execution_count": 66,
   "metadata": {},
   "outputs": [],
   "source": [
    "model.compile(loss='categorical_crossentropy', optimizer='adam')"
   ]
  },
  {
   "cell_type": "code",
   "execution_count": 67,
   "metadata": {},
   "outputs": [],
   "source": [
    "epochs = 150\n",
    "number_pics_per_bath = 3\n",
    "steps = len(train_descriptions)//number_pics_per_bath"
   ]
  },
  {
   "cell_type": "code",
   "execution_count": 76,
   "metadata": {},
   "outputs": [
    {
     "name": "stdout",
     "output_type": "stream",
     "text": [
      "Epoch 1/1\n",
      "2000/2000 [==============================] - 171s 86ms/step - loss: 2.6030\n",
      "Epoch 1/1\n",
      "2000/2000 [==============================] - 167s 83ms/step - loss: 2.5840\n",
      "Epoch 1/1\n",
      "2000/2000 [==============================] - 171s 86ms/step - loss: 2.5670\n",
      "Epoch 1/1\n",
      "2000/2000 [==============================] - 167s 83ms/step - loss: 2.5530\n",
      "Epoch 1/1\n",
      "2000/2000 [==============================] - 170s 85ms/step - loss: 2.5452\n",
      "Epoch 1/1\n",
      "2000/2000 [==============================] - 173s 86ms/step - loss: 2.5311\n",
      "Epoch 1/1\n",
      "2000/2000 [==============================] - 168s 84ms/step - loss: 2.5189\n",
      "Epoch 1/1\n",
      "2000/2000 [==============================] - 165s 82ms/step - loss: 2.5113\n",
      "Epoch 1/1\n",
      "2000/2000 [==============================] - 174s 87ms/step - loss: 2.5003\n",
      "Epoch 1/1\n",
      "2000/2000 [==============================] - 165s 83ms/step - loss: 2.4928\n",
      "Epoch 1/1\n",
      "2000/2000 [==============================] - 166s 83ms/step - loss: 2.4840\n",
      "Epoch 1/1\n",
      "2000/2000 [==============================] - 170s 85ms/step - loss: 2.4789\n",
      "Epoch 1/1\n",
      "2000/2000 [==============================] - 162s 81ms/step - loss: 2.4685\n",
      "Epoch 1/1\n",
      "2000/2000 [==============================] - 159s 80ms/step - loss: 2.4634\n",
      "Epoch 1/1\n",
      "2000/2000 [==============================] - 164s 82ms/step - loss: 2.4556\n",
      "Epoch 1/1\n",
      "2000/2000 [==============================] - 166s 83ms/step - loss: 2.4528\n",
      "Epoch 1/1\n",
      "2000/2000 [==============================] - 171s 85ms/step - loss: 2.4459\n",
      "Epoch 1/1\n",
      "2000/2000 [==============================] - 159s 80ms/step - loss: 2.4399\n",
      "Epoch 1/1\n",
      "2000/2000 [==============================] - 163s 81ms/step - loss: 2.4383\n",
      "Epoch 1/1\n",
      "2000/2000 [==============================] - 168s 84ms/step - loss: 2.4287\n",
      "Epoch 1/1\n",
      "2000/2000 [==============================] - 172s 86ms/step - loss: 2.4268\n",
      "Epoch 1/1\n",
      "2000/2000 [==============================] - 164s 82ms/step - loss: 2.4228\n",
      "Epoch 1/1\n",
      "2000/2000 [==============================] - 165s 82ms/step - loss: 2.4170\n",
      "Epoch 1/1\n",
      "2000/2000 [==============================] - 168s 84ms/step - loss: 2.4137\n",
      "Epoch 1/1\n",
      "2000/2000 [==============================] - 176s 88ms/step - loss: 2.4114\n",
      "Epoch 1/1\n",
      "2000/2000 [==============================] - 172s 86ms/step - loss: 2.4060\n",
      "Epoch 1/1\n",
      "2000/2000 [==============================] - 162s 81ms/step - loss: 2.4037\n",
      "Epoch 1/1\n",
      "2000/2000 [==============================] - 161s 80ms/step - loss: 2.4042\n",
      "Epoch 1/1\n",
      "2000/2000 [==============================] - 168s 84ms/step - loss: 2.3975\n",
      "Epoch 1/1\n",
      "2000/2000 [==============================] - 162s 81ms/step - loss: 2.3937\n",
      "Epoch 1/1\n",
      "2000/2000 [==============================] - 170s 85ms/step - loss: 2.3919\n",
      "Epoch 1/1\n",
      "2000/2000 [==============================] - 168s 84ms/step - loss: 2.3924\n",
      "Epoch 1/1\n",
      "2000/2000 [==============================] - 172s 86ms/step - loss: 2.3911\n",
      "Epoch 1/1\n",
      "2000/2000 [==============================] - 167s 83ms/step - loss: 2.3847\n",
      "Epoch 1/1\n",
      "2000/2000 [==============================] - 165s 83ms/step - loss: 2.3829\n",
      "Epoch 1/1\n",
      "2000/2000 [==============================] - 167s 84ms/step - loss: 2.3797\n",
      "Epoch 1/1\n",
      "2000/2000 [==============================] - 167s 83ms/step - loss: 2.3805\n",
      "Epoch 1/1\n",
      "2000/2000 [==============================] - 166s 83ms/step - loss: 2.3790\n",
      "Epoch 1/1\n",
      "2000/2000 [==============================] - 165s 83ms/step - loss: 2.3751\n",
      "Epoch 1/1\n",
      "2000/2000 [==============================] - 163s 81ms/step - loss: 2.3734\n",
      "Epoch 1/1\n",
      "2000/2000 [==============================] - 159s 79ms/step - loss: 2.3695\n",
      "Epoch 1/1\n",
      "2000/2000 [==============================] - 161s 81ms/step - loss: 2.3705\n",
      "Epoch 1/1\n",
      "2000/2000 [==============================] - 157s 78ms/step - loss: 2.3714\n",
      "Epoch 1/1\n",
      "2000/2000 [==============================] - 160s 80ms/step - loss: 2.3669\n",
      "Epoch 1/1\n",
      "2000/2000 [==============================] - 163s 81ms/step - loss: 2.3636\n",
      "Epoch 1/1\n",
      "2000/2000 [==============================] - 162s 81ms/step - loss: 2.3632\n",
      "Epoch 1/1\n",
      "2000/2000 [==============================] - 161s 81ms/step - loss: 2.3595\n",
      "Epoch 1/1\n",
      "2000/2000 [==============================] - 168s 84ms/step - loss: 2.3613\n",
      "Epoch 1/1\n",
      "2000/2000 [==============================] - 164s 82ms/step - loss: 2.3609\n",
      "Epoch 1/1\n",
      "2000/2000 [==============================] - 163s 82ms/step - loss: 2.3574\n",
      "Epoch 1/1\n",
      "2000/2000 [==============================] - 161s 80ms/step - loss: 2.3573\n",
      "Epoch 1/1\n",
      "2000/2000 [==============================] - 164s 82ms/step - loss: 2.3548\n",
      "Epoch 1/1\n",
      "2000/2000 [==============================] - 158s 79ms/step - loss: 2.3531\n",
      "Epoch 1/1\n",
      "2000/2000 [==============================] - 162s 81ms/step - loss: 2.3564\n",
      "Epoch 1/1\n",
      "2000/2000 [==============================] - 160s 80ms/step - loss: 2.3530\n",
      "Epoch 1/1\n",
      "2000/2000 [==============================] - 159s 80ms/step - loss: 2.3505\n",
      "Epoch 1/1\n",
      "2000/2000 [==============================] - 158s 79ms/step - loss: 2.3493\n",
      "Epoch 1/1\n",
      "2000/2000 [==============================] - 158s 79ms/step - loss: 2.3530\n",
      "Epoch 1/1\n",
      "2000/2000 [==============================] - 158s 79ms/step - loss: 2.3459\n",
      "Epoch 1/1\n",
      "2000/2000 [==============================] - 161s 81ms/step - loss: 2.3470\n",
      "Epoch 1/1\n",
      "2000/2000 [==============================] - 157s 79ms/step - loss: 2.3514\n",
      "Epoch 1/1\n",
      "2000/2000 [==============================] - 157s 79ms/step - loss: 2.3446\n",
      "Epoch 1/1\n",
      "2000/2000 [==============================] - 156s 78ms/step - loss: 2.3436\n",
      "Epoch 1/1\n",
      "2000/2000 [==============================] - 155s 78ms/step - loss: 2.3411\n",
      "Epoch 1/1\n",
      "2000/2000 [==============================] - 158s 79ms/step - loss: 2.3460\n",
      "Epoch 1/1\n",
      "2000/2000 [==============================] - 154s 77ms/step - loss: 2.3433\n",
      "Epoch 1/1\n",
      "2000/2000 [==============================] - 153s 77ms/step - loss: 2.3393\n",
      "Epoch 1/1\n",
      "2000/2000 [==============================] - 153s 77ms/step - loss: 2.3420\n",
      "Epoch 1/1\n",
      "2000/2000 [==============================] - 154s 77ms/step - loss: 2.3395\n",
      "Epoch 1/1\n",
      "2000/2000 [==============================] - 153s 76ms/step - loss: 2.3398\n",
      "Epoch 1/1\n",
      "2000/2000 [==============================] - 155s 78ms/step - loss: 2.3384\n",
      "Epoch 1/1\n",
      "2000/2000 [==============================] - 153s 77ms/step - loss: 2.3334\n",
      "Epoch 1/1\n",
      "2000/2000 [==============================] - 154s 77ms/step - loss: 2.3364\n",
      "Epoch 1/1\n",
      "2000/2000 [==============================] - 154s 77ms/step - loss: 2.3387\n",
      "Epoch 1/1\n",
      "2000/2000 [==============================] - 154s 77ms/step - loss: 2.3360\n",
      "Epoch 1/1\n",
      "2000/2000 [==============================] - 154s 77ms/step - loss: 2.3364\n",
      "Epoch 1/1\n",
      "2000/2000 [==============================] - 153s 77ms/step - loss: 2.3327\n",
      "Epoch 1/1\n",
      "2000/2000 [==============================] - 154s 77ms/step - loss: 2.3358\n",
      "Epoch 1/1\n",
      "2000/2000 [==============================] - 153s 77ms/step - loss: 2.3334\n",
      "Epoch 1/1\n",
      "2000/2000 [==============================] - 154s 77ms/step - loss: 2.3360\n",
      "Epoch 1/1\n",
      "2000/2000 [==============================] - 154s 77ms/step - loss: 2.3340\n",
      "Epoch 1/1\n",
      "2000/2000 [==============================] - 153s 77ms/step - loss: 2.3324\n",
      "Epoch 1/1\n",
      "2000/2000 [==============================] - 154s 77ms/step - loss: 2.3340\n",
      "Epoch 1/1\n",
      "2000/2000 [==============================] - 162s 81ms/step - loss: 2.3325\n",
      "Epoch 1/1\n",
      "2000/2000 [==============================] - 160s 80ms/step - loss: 2.3298\n",
      "Epoch 1/1\n",
      "2000/2000 [==============================] - 154s 77ms/step - loss: 2.3320\n",
      "Epoch 1/1\n",
      "2000/2000 [==============================] - 158s 79ms/step - loss: 2.3294\n",
      "Epoch 1/1\n",
      "2000/2000 [==============================] - 154s 77ms/step - loss: 2.3327\n",
      "Epoch 1/1\n",
      "2000/2000 [==============================] - 155s 77ms/step - loss: 2.3291\n",
      "Epoch 1/1\n",
      "2000/2000 [==============================] - 156s 78ms/step - loss: 2.3314\n",
      "Epoch 1/1\n",
      "2000/2000 [==============================] - 161s 80ms/step - loss: 2.3304\n",
      "Epoch 1/1\n",
      "2000/2000 [==============================] - 164s 82ms/step - loss: 2.3291\n",
      "Epoch 1/1\n",
      "2000/2000 [==============================] - 159s 80ms/step - loss: 2.3294\n",
      "Epoch 1/1\n",
      "2000/2000 [==============================] - 165s 83ms/step - loss: 2.3292\n",
      "Epoch 1/1\n",
      "2000/2000 [==============================] - 158s 79ms/step - loss: 2.3261\n",
      "Epoch 1/1\n",
      "2000/2000 [==============================] - 159s 79ms/step - loss: 2.3275\n",
      "Epoch 1/1\n",
      "2000/2000 [==============================] - 152s 76ms/step - loss: 2.3287\n",
      "Epoch 1/1\n",
      "2000/2000 [==============================] - 151s 76ms/step - loss: 2.3239\n",
      "Epoch 1/1\n",
      "2000/2000 [==============================] - 151s 76ms/step - loss: 2.3268\n",
      "Epoch 1/1\n",
      "2000/2000 [==============================] - 155s 77ms/step - loss: 2.3258\n",
      "Epoch 1/1\n",
      "2000/2000 [==============================] - 150s 75ms/step - loss: 2.3234\n",
      "Epoch 1/1\n",
      "2000/2000 [==============================] - 150s 75ms/step - loss: 2.3257\n",
      "Epoch 1/1\n",
      "2000/2000 [==============================] - 153s 77ms/step - loss: 2.3242\n",
      "Epoch 1/1\n",
      "2000/2000 [==============================] - 154s 77ms/step - loss: 2.3265\n",
      "Epoch 1/1\n",
      "2000/2000 [==============================] - 154s 77ms/step - loss: 2.3234\n",
      "Epoch 1/1\n",
      "2000/2000 [==============================] - 151s 75ms/step - loss: 2.3270\n",
      "Epoch 1/1\n",
      "2000/2000 [==============================] - 155s 78ms/step - loss: 2.3269\n",
      "Epoch 1/1\n",
      "2000/2000 [==============================] - 153s 76ms/step - loss: 2.3237\n",
      "Epoch 1/1\n",
      "2000/2000 [==============================] - 153s 77ms/step - loss: 2.3234\n",
      "Epoch 1/1\n",
      "2000/2000 [==============================] - 152s 76ms/step - loss: 2.3265\n",
      "Epoch 1/1\n",
      "2000/2000 [==============================] - 150s 75ms/step - loss: 2.3234\n",
      "Epoch 1/1\n",
      "2000/2000 [==============================] - 156s 78ms/step - loss: 2.3237\n",
      "Epoch 1/1\n",
      "2000/2000 [==============================] - 155s 77ms/step - loss: 2.3220\n",
      "Epoch 1/1\n",
      "2000/2000 [==============================] - 152s 76ms/step - loss: 2.3241\n",
      "Epoch 1/1\n",
      "2000/2000 [==============================] - 149s 74ms/step - loss: 2.3223\n",
      "Epoch 1/1\n",
      "2000/2000 [==============================] - 149s 75ms/step - loss: 2.3254\n",
      "Epoch 1/1\n",
      "2000/2000 [==============================] - 153s 76ms/step - loss: 2.3255\n",
      "Epoch 1/1\n",
      "2000/2000 [==============================] - 154s 77ms/step - loss: 2.3229\n",
      "Epoch 1/1\n",
      "2000/2000 [==============================] - 154s 77ms/step - loss: 2.3219\n",
      "Epoch 1/1\n",
      "2000/2000 [==============================] - 154s 77ms/step - loss: 2.3228\n",
      "Epoch 1/1\n",
      "2000/2000 [==============================] - 156s 78ms/step - loss: 2.3238\n",
      "Epoch 1/1\n",
      "2000/2000 [==============================] - 149s 74ms/step - loss: 2.3226\n",
      "Epoch 1/1\n",
      "2000/2000 [==============================] - 148s 74ms/step - loss: 2.3241\n",
      "Epoch 1/1\n",
      "2000/2000 [==============================] - 148s 74ms/step - loss: 2.3226\n",
      "Epoch 1/1\n",
      "2000/2000 [==============================] - 148s 74ms/step - loss: 2.3226\n",
      "Epoch 1/1\n",
      "2000/2000 [==============================] - 148s 74ms/step - loss: 2.3290\n",
      "Epoch 1/1\n",
      "2000/2000 [==============================] - 148s 74ms/step - loss: 2.3234\n",
      "Epoch 1/1\n",
      "2000/2000 [==============================] - 148s 74ms/step - loss: 2.3200\n",
      "Epoch 1/1\n",
      "2000/2000 [==============================] - 148s 74ms/step - loss: 2.3203\n",
      "Epoch 1/1\n",
      "2000/2000 [==============================] - 148s 74ms/step - loss: 2.3222\n",
      "Epoch 1/1\n",
      "2000/2000 [==============================] - 148s 74ms/step - loss: 2.3246\n",
      "Epoch 1/1\n",
      "2000/2000 [==============================] - 149s 74ms/step - loss: 2.3245\n",
      "Epoch 1/1\n",
      "2000/2000 [==============================] - 148s 74ms/step - loss: 2.3241\n",
      "Epoch 1/1\n",
      "2000/2000 [==============================] - 148s 74ms/step - loss: 2.3255\n",
      "Epoch 1/1\n",
      "2000/2000 [==============================] - 148s 74ms/step - loss: 2.3230\n",
      "Epoch 1/1\n",
      "2000/2000 [==============================] - 148s 74ms/step - loss: 2.3209\n",
      "Epoch 1/1\n",
      "2000/2000 [==============================] - 148s 74ms/step - loss: 2.3219\n",
      "Epoch 1/1\n",
      "2000/2000 [==============================] - 149s 74ms/step - loss: 2.3233\n",
      "Epoch 1/1\n",
      "2000/2000 [==============================] - 148s 74ms/step - loss: 2.3241\n",
      "Epoch 1/1\n",
      "2000/2000 [==============================] - 148s 74ms/step - loss: 2.3250\n",
      "Epoch 1/1\n",
      "2000/2000 [==============================] - 152s 76ms/step - loss: 2.3251\n",
      "Epoch 1/1\n",
      "2000/2000 [==============================] - 152s 76ms/step - loss: 2.3238\n",
      "Epoch 1/1\n",
      "2000/2000 [==============================] - 148s 74ms/step - loss: 2.3248\n",
      "Epoch 1/1\n",
      "2000/2000 [==============================] - 148s 74ms/step - loss: 2.3205\n",
      "Epoch 1/1\n",
      "2000/2000 [==============================] - 148s 74ms/step - loss: 2.3224\n",
      "Epoch 1/1\n",
      "2000/2000 [==============================] - 147s 74ms/step - loss: 2.3248\n",
      "Epoch 1/1\n",
      "2000/2000 [==============================] - 149s 75ms/step - loss: 2.3252\n",
      "Epoch 1/1\n",
      "2000/2000 [==============================] - 149s 75ms/step - loss: 2.3232\n",
      "Epoch 1/1\n",
      "2000/2000 [==============================] - 147s 74ms/step - loss: 2.3200\n",
      "Epoch 1/1\n",
      "2000/2000 [==============================] - 144s 72ms/step - loss: 2.3214\n"
     ]
    }
   ],
   "source": [
    "#for i in range(epochs):\n",
    "#    generator = data_generator(train_descriptions, train_features, wordtoix, max_length, number_pics_per_bath)\n",
    "#    model.fit_generator(generator, epochs=1, steps_per_epoch=steps, verbose=1)\n",
    "#    model.save('/home/paperspace/Image_Captioning/model_weights/model_' + str(i) + '.h5')"
   ]
  },
  {
   "cell_type": "code",
   "execution_count": null,
   "metadata": {},
   "outputs": [],
   "source": []
  },
  {
   "cell_type": "code",
   "execution_count": 68,
   "metadata": {},
   "outputs": [],
   "source": [
    "# Loading that last saved model from your model_weights folder\n",
    "model.load_weights('model_weights/model_149.h5')"
   ]
  },
  {
   "cell_type": "code",
   "execution_count": 69,
   "metadata": {},
   "outputs": [],
   "source": [
    "images = 'data/Flicker8k_Dataset/'"
   ]
  },
  {
   "cell_type": "code",
   "execution_count": 70,
   "metadata": {},
   "outputs": [],
   "source": [
    "# We're opening those encoded_test pkl file for testing\n",
    "with open(\"data/Pickle/encoded_test_images.pkl\", \"rb\") as encoded_pickle:\n",
    "    encoding_test = load(encoded_pickle)"
   ]
  },
  {
   "cell_type": "code",
   "execution_count": 71,
   "metadata": {},
   "outputs": [],
   "source": [
    "def imageSearch(photo):\n",
    "    in_text = 'startseq'\n",
    "    for i in range(max_length):\n",
    "        sequence = [wordtoix[w] for w in in_text.split() if w in wordtoix]\n",
    "        sequence = pad_sequences([sequence], maxlen=max_length)\n",
    "        yhat = model.predict([photo,sequence], verbose=0)\n",
    "        yhat = np.argmax(yhat)\n",
    "        word = ixtoword[yhat]\n",
    "        in_text += ' ' + word\n",
    "        if word == 'endseq':\n",
    "            break\n",
    "    final = in_text.split()\n",
    "    final = final[1:-1]\n",
    "    final = ' '.join(final)\n",
    "    return final"
   ]
  },
  {
   "cell_type": "code",
   "execution_count": 77,
   "metadata": {},
   "outputs": [
    {
     "data": {
      "image/png": "[encoded data removed]",
      "text/plain": [
       "<Figure size 432x288 with 1 Axes>"
      ]
     },
     "metadata": {
      "needs_background": "light"
     },
     "output_type": "display_data"
    },
    {
     "name": "stdout",
     "output_type": "stream",
     "text": [
      "Image with Caption: group of people gather around at an event\n"
     ]
    }
   ],
   "source": [
    "# Your result\n",
    "pic = list(encoding_test.keys())[22]\n",
    "image = encoding_test[pic].reshape((1,2048))\n",
    "x=plt.imread(images+pic)\n",
    "plt.imshow(x)\n",
    "plt.show()\n",
    "print(\"Image with Caption:\",imageSearch(image))"
   ]
  },
  {
   "cell_type": "code",
   "execution_count": null,
   "metadata": {},
   "outputs": [],
   "source": []
  }
 ],
 "metadata": {
  "kernelspec": {
   "display_name": "Python 3",
   "language": "python",
   "name": "python3"
  },
  "language_info": {
   "codemirror_mode": {
    "name": "ipython",
    "version": 3
   },
   "file_extension": ".py",
   "mimetype": "text/x-python",
   "name": "python",
   "nbconvert_exporter": "python",
   "pygments_lexer": "ipython3",
   "version": "3.8.9"
  }
 },
 "nbformat": 4,
 "nbformat_minor": 2
}
